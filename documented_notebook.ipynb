{
 "cells": [
  {
   "cell_type": "code",
   "execution_count": null,
   "id": "c6dbb59c",
   "metadata": {},
   "outputs": [],
   "source": [
    "# This cell imports necessary modules for working with PyTorch, Rasterio, data manipulation, visualization, and other tasks.\n",
    "# PyTorch modules include datasets, models, transforms, optimizer, and learning rate scheduler.\n",
    "# Rasterio module is imported for working with raster data and reshaping it as an image.\n",
    "# Pandas and NumPy are imported for data manipulation.\n",
    "# Train-test split is imported from sklearn model selection.\n",
    "# Matplotlib is imported for visualization.\n",
    "# TQDM is imported for progress bars.\n",
    "# OS, time, and copy modules are also imported.\n",
    "import torch\n",
    "import torch.nn as nn\n",
    "import torch.optim as optim\n",
    "from torch.utils.data import datasets, random_split\n",
    "from torch.optim import lr_scheduler\n",
    "import rasterio\n",
    "from rasterio.plot import reshape_as_image\n",
    "import pandas as pd\n",
    "import numpy as np\n",
    "from sklearn.model_selection import train_test_split\n",
    "import matplotlib.pyplot as plt\n",
    "%matplotlib inline\n",
    "from tqdm import tqdm\n",
    "import os\n",
    "import time\n",
    "import copy"
   ]
  },
  {
   "cell_type": "code",
   "execution_count": null,
   "id": "9a6617cd",
   "metadata": {},
   "outputs": [],
   "source": [
    "# This function reads images from a directory and returns them as a list of tuples with their respective class labels. \n",
    "# The function takes in three arguments: directory, classes, and bands. The images are reshaped and filtered by bands. \n",
    "# The output is a list of tuples containing the image and its class label. \n",
    "\n",
    "def get_training(directory, classes, bands):\n",
    "    images = []\n",
    "    for k in tqdm(range(len(classes))):\n",
    "        classname = classes[k]\n",
    "        classlabel = int(LABEL2ID[classname])\n",
    "        path = os.path.join(directory, classname)\n",
    "        images_class = [f for f in os.listdir(path) if f.endswith('.tif')]\n",
    "        for image_file in images_class:\n",
    "            image_path = os.path.join(path, image_file)\n",
    "            with rasterio.open(image_path, \"r\") as src:\n",
    "                img = src.read()\n",
    "                img = reshape_as_image(img)\n",
    "                img = img[:, :, bands]\n",
    "                images.append((img, classlabel))\n",
    "    return images"
   ]
  },
  {
   "cell_type": "code",
   "execution_count": null,
   "id": "71dab0a0",
   "metadata": {},
   "outputs": [],
   "source": [
    "# Load training data from specified path, class labels, and bands using the get_training function.\n",
    "# The function returns a training dataset that can be used for model training.\n",
    "# Ensure that the TRAINING_PATH, CLASS_LABELS, and BANDS variables are properly defined before running this code.\n",
    "\n",
    "training = get_training(TRAINING_PATH, CLASS_LABELS, BANDS)"
   ]
  }
 ],
 "metadata": {},
 "nbformat": 4,
 "nbformat_minor": 5
}
