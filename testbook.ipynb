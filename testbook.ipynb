{
  "cells": [
    {
      "cell_type": "code",
      "execution_count": null,
      "metadata": {
        "id": "jOyR1RnBhgvB"
      },
      "outputs": [],
      "source": [
        "class Bankaccount:\n",
        "\tdef __init__(self):\n"
      ]
    },
    {
      "cell_type": "code",
      "execution_count": null,
      "metadata": {
        "id": "9C7QR4LfoPiY"
      },
      "outputs": [],
      "source": [
        "def deposit(self):\n",
        "\t\tamount = float(input(\"Enter amount to be deposited: \"))\n",
        "\t\tself.balance += amount\n",
        "\t\tprint(\"\\n Amount Deposited:\", amount)\n"
      ]
    },
    {
      "cell_type": "code",
      "execution_count": null,
      "metadata": {
        "id": "emAuItkjoPkb"
      },
      "outputs": [],
      "source": [
        "def withdraw(self):\n",
        "\t\tamount = float(input(\"Enter amount to be withdrawn: \"))\n",
        "\t\tif self.balance >= amount:\n",
        "\t\t\tself.balance -= amount\n",
        "\t\t\tprint(\"\\n You Withdrew:\", amount)\n",
        "\t\telse:\n",
        "\t\t\tprint(\"\\n Insufficient balance \")\n"
      ]
    },
    {
      "cell_type": "code",
      "execution_count": null,
      "metadata": {
        "id": "qCDAyC_ToPn6"
      },
      "outputs": [],
      "source": [
        "def display(self):\n",
        "\t\tprint(\"\\n Net Available Balance =\", self.balance)\n"
      ]
    },
    {
      "cell_type": "code",
      "execution_count": null,
      "metadata": {
        "id": "3ctUO27YoPpj"
      },
      "outputs": [],
      "source": [
        "class Bank_Account:\n",
        "\tdef __init__(self):\n",
        "\t\tself.balance=0\n",
        "\t\tprint(\"Hello!!! Welcome to the Deposit & Withdrawal Machine\")\n",
        "\n",
        "\tdef deposit(self):\n",
        "\t\tamount=float(input(\"Enter amount to be Deposited: \"))\n",
        "\t\tself.balance += amount\n",
        "\t\tprint(\"\\n Amount Deposited:\",amount)\n",
        "\n",
        "\tdef withdraw(self):\n",
        "\t\tamount = float(input(\"Enter amount to be Withdrawn: \"))\n",
        "\t\tif self.balance>=amount:\n",
        "\t\t\tself.balance-=amount\n",
        "\t\t\tprint(\"\\n You Withdrew:\", amount)\n",
        "\t\telse:\n",
        "\t\t\tprint(\"\\n Insufficient balance \")\n",
        "\n",
        "\tdef display(self):\n",
        "\t\tprint(\"\\n Net Available Balance=\",self.balance)\n",
        "\n",
        "\n",
        "s = Bank_Account()\n",
        "\n",
        "s.deposit()\n",
        "s.withdraw()\n",
        "s.display()\n"
      ]
    }
  ],
  "metadata": {
    "colab": {
      "provenance": []
    },
    "kernelspec": {
      "display_name": "Python 3",
      "name": "python3"
    },
    "language_info": {
      "name": "python"
    }
  },
  "nbformat": 4,
  "nbformat_minor": 0
}
