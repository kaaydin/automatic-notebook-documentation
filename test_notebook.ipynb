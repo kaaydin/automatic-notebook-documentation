{
 "cells": [
  {
   "cell_type": "code",
   "execution_count": null,
   "metadata": {},
   "outputs": [],
   "source": [
    "### Torch modules\n",
    "from torchvision import datasets, models, transforms\n",
    "from torch.optim import lr_scheduler\n",
    "from torch.utils.data import random_split\n",
    "import torch\n",
    "import torch.nn as nn\n",
    "import torch.optim as optim\n",
    "\n",
    "### Rasterio modules\n",
    "import rasterio\n",
    "from rasterio.plot import reshape_as_image\n",
    "\n",
    "### Other DS modules\n",
    "import pandas as pd\n",
    "import numpy as np\n",
    "from sklearn.model_selection import train_test_split\n",
    "\n",
    "### Visualisation modules\n",
    "import matplotlib.pyplot as plt\n",
    "%matplotlib inline\n",
    "\n",
    "### Other modules\n",
    "from tqdm import tqdm\n",
    "import os \n",
    "import time\n",
    "import copy"
   ]
  },
  {
   "cell_type": "code",
   "execution_count": null,
   "metadata": {},
   "outputs": [],
   "source": [
    "def get_training(directory, classes, bands):\n",
    "    \n",
    "    images = []\n",
    "\n",
    "    for k in tqdm(range(len(classes))):\n",
    "        classname = classes[k]\n",
    "        classlabel = int(LABEL2ID[classname])\n",
    "        path = os.path.join(directory, classname)\n",
    "        images_class = [f for f in os.listdir(path) if f.endswith('.tif')]\n",
    "\n",
    "        for image_file in images_class:\n",
    "            image_path = os.path.join(path, image_file)\n",
    "\n",
    "            with rasterio.open(image_path, \"r\") as src:\n",
    "                img = src.read()\n",
    "                img = reshape_as_image(img)\n",
    "                img = img[:, :, bands]\n",
    "                images.append((img, classlabel))\n",
    "    \n",
    "    return images"
   ]
  },
  {
   "cell_type": "code",
   "execution_count": null,
   "metadata": {},
   "outputs": [],
   "source": [
    "## Loading the training data\n",
    "training = get_training(TRAINING_PATH, CLASS_LABELS, BANDS)"
   ]
  }
 ],
 "metadata": {
  "language_info": {
   "name": "python"
  },
  "orig_nbformat": 4
 },
 "nbformat": 4,
 "nbformat_minor": 2
}
