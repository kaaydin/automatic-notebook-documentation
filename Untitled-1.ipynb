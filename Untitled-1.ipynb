{
 "cells": [
  {
   "cell_type": "code",
   "execution_count": 1,
   "metadata": {},
   "outputs": [],
   "source": [
    "import argparse\n",
    "\n",
    "from comment_generator import query_message_list\n",
    "from utils import read_notebook, create_notebook, save_notebook, write_notebook, create_messagelist\n",
    "\n",
    "\n",
    "source_notebook = read_notebook(\"/Users/kaanaydin/Desktop/test_notebook.ipynb\")"
   ]
  },
  {
   "cell_type": "code",
   "execution_count": null,
   "metadata": {},
   "outputs": [],
   "source": [
    "    outputs = query_message_list(messages)\n",
    "    new_notebook = create_notebook()\n",
    "    write_notebook(new_notebook, outputs)\n",
    "    save_notebook(new_notebook, \"new_notebook.ipynb\")\n",
    "\n",
    "if __name__ == \"__main__\":\n",
    "    parser = argparse.ArgumentParser(description=\"Generate comments for Jupyter notebook cells.\")\n",
    "    parser.add_argument(\"input_file\", type=str, help=\"Path to the input Jupyter notebook.\")\n",
    "    args = parser.parse_args()\n",
    "    main(args)"
   ]
  }
 ],
 "metadata": {
  "kernelspec": {
   "display_name": "torch-gpu",
   "language": "python",
   "name": "python3"
  },
  "language_info": {
   "codemirror_mode": {
    "name": "ipython",
    "version": 3
   },
   "file_extension": ".py",
   "mimetype": "text/x-python",
   "name": "python",
   "nbconvert_exporter": "python",
   "pygments_lexer": "ipython3",
   "version": "3.10.9"
  },
  "orig_nbformat": 4
 },
 "nbformat": 4,
 "nbformat_minor": 2
}
