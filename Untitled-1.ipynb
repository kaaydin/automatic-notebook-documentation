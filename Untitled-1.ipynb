{
 "cells": [
  {
   "cell_type": "code",
   "execution_count": 1,
   "metadata": {},
   "outputs": [],
   "source": [
    "import argparse\n",
    "\n",
    "from comment_generator import query_message_list\n",
    "from utils import read_notebook, create_notebook, save_notebook, write_notebook, create_messagelist\n",
    "\n",
    "\n",
    "source_notebook = read_notebook(\"/Users/kaanaydin/Desktop/test_notebook.ipynb\")"
   ]
  },
  {
   "cell_type": "code",
   "execution_count": 2,
   "metadata": {},
   "outputs": [
    {
     "data": {
      "text/plain": [
       "{'cells': [{'cell_type': 'code',\n",
       "   'execution_count': None,\n",
       "   'metadata': {},\n",
       "   'outputs': [],\n",
       "   'source': '### Torch modules\\nfrom torchvision import datasets, models, transforms\\nfrom torch.optim import lr_scheduler\\nfrom torch.utils.data import random_split\\nimport torch\\nimport torch.nn as nn\\nimport torch.optim as optim\\n\\n### Rasterio modules\\nimport rasterio\\nfrom rasterio.plot import reshape_as_image\\n\\n### Other DS modules\\nimport pandas as pd\\nimport numpy as np\\nfrom sklearn.model_selection import train_test_split\\n\\n### Visualisation modules\\nimport matplotlib.pyplot as plt\\n%matplotlib inline\\n\\n### Other modules\\nfrom tqdm import tqdm\\nimport os \\nimport time\\nimport copy'},\n",
       "  {'cell_type': 'code',\n",
       "   'execution_count': None,\n",
       "   'metadata': {},\n",
       "   'outputs': [],\n",
       "   'source': 'def get_training(directory, classes, bands):\\n    \\n    images = []\\n\\n    for k in tqdm(range(len(classes))):\\n        classname = classes[k]\\n        classlabel = int(LABEL2ID[classname])\\n        path = os.path.join(directory, classname)\\n        images_class = [f for f in os.listdir(path) if f.endswith(\\'.tif\\')]\\n\\n        for image_file in images_class:\\n            image_path = os.path.join(path, image_file)\\n\\n            with rasterio.open(image_path, \"r\") as src:\\n                img = src.read()\\n                img = reshape_as_image(img)\\n                img = img[:, :, bands]\\n                images.append((img, classlabel))\\n    \\n    return images'},\n",
       "  {'cell_type': 'code',\n",
       "   'execution_count': None,\n",
       "   'metadata': {},\n",
       "   'outputs': [],\n",
       "   'source': '## Loading the training data\\ntraining = get_training(TRAINING_PATH, CLASS_LABELS, BANDS)'}],\n",
       " 'metadata': {'language_info': {'name': 'python'}},\n",
       " 'nbformat': 4,\n",
       " 'nbformat_minor': 2}"
      ]
     },
     "execution_count": 2,
     "metadata": {},
     "output_type": "execute_result"
    }
   ],
   "source": [
    "source_notebook"
   ]
  },
  {
   "cell_type": "code",
   "execution_count": null,
   "metadata": {},
   "outputs": [],
   "source": [
    "    outputs = query_message_list(messages)\n",
    "    new_notebook = create_notebook()\n",
    "    write_notebook(new_notebook, outputs)\n",
    "    save_notebook(new_notebook, \"new_notebook.ipynb\")\n",
    "\n",
    "if __name__ == \"__main__\":\n",
    "    parser = argparse.ArgumentParser(description=\"Generate comments for Jupyter notebook cells.\")\n",
    "    parser.add_argument(\"input_file\", type=str, help=\"Path to the input Jupyter notebook.\")\n",
    "    args = parser.parse_args()\n",
    "    main(args)"
   ]
  }
 ],
 "metadata": {
  "kernelspec": {
   "display_name": "torch-gpu",
   "language": "python",
   "name": "python3"
  },
  "language_info": {
   "codemirror_mode": {
    "name": "ipython",
    "version": 3
   },
   "file_extension": ".py",
   "mimetype": "text/x-python",
   "name": "python",
   "nbconvert_exporter": "python",
   "pygments_lexer": "ipython3",
   "version": "3.10.9"
  },
  "orig_nbformat": 4
 },
 "nbformat": 4,
 "nbformat_minor": 2
}
